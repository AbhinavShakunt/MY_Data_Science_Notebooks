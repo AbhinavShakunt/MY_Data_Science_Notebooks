{
  "nbformat": 4,
  "nbformat_minor": 0,
  "metadata": {
    "colab": {
      "provenance": [],
      "gpuType": "T4",
      "authorship_tag": "ABX9TyNFPYdbYb7DLs/K5LdYCs+Z",
      "include_colab_link": true
    },
    "kernelspec": {
      "name": "python3",
      "display_name": "Python 3"
    },
    "language_info": {
      "name": "python"
    },
    "accelerator": "GPU"
  },
  "cells": [
    {
      "cell_type": "markdown",
      "metadata": {
        "id": "view-in-github",
        "colab_type": "text"
      },
      "source": [
        "<a href=\"https://colab.research.google.com/github/AbhinavShakunt/MY_Data_Science_Notebooks/blob/main/Bert_intro.ipynb\" target=\"_parent\"><img src=\"https://colab.research.google.com/assets/colab-badge.svg\" alt=\"Open In Colab\"/></a>"
      ]
    },
    {
      "cell_type": "code",
      "execution_count": 1,
      "metadata": {
        "colab": {
          "base_uri": "https://localhost:8080/"
        },
        "id": "Nx6Go4lDcNCV",
        "outputId": "3b8536d0-bfb3-41a2-8041-21f5124d3be8"
      },
      "outputs": [
        {
          "output_type": "stream",
          "name": "stdout",
          "text": [
            "Collecting tensorflow-text\n",
            "  Downloading tensorflow_text-2.15.0-cp310-cp310-manylinux_2_17_x86_64.manylinux2014_x86_64.whl (5.2 MB)\n",
            "\u001b[2K     \u001b[90m━━━━━━━━━━━━━━━━━━━━━━━━━━━━━━━━━━━━━━━━\u001b[0m \u001b[32m5.2/5.2 MB\u001b[0m \u001b[31m18.0 MB/s\u001b[0m eta \u001b[36m0:00:00\u001b[0m\n",
            "\u001b[?25hRequirement already satisfied: tensorflow-hub>=0.13.0 in /usr/local/lib/python3.10/dist-packages (from tensorflow-text) (0.16.1)\n",
            "Requirement already satisfied: tensorflow<2.16,>=2.15.0 in /usr/local/lib/python3.10/dist-packages (from tensorflow-text) (2.15.0)\n",
            "Requirement already satisfied: absl-py>=1.0.0 in /usr/local/lib/python3.10/dist-packages (from tensorflow<2.16,>=2.15.0->tensorflow-text) (1.4.0)\n",
            "Requirement already satisfied: astunparse>=1.6.0 in /usr/local/lib/python3.10/dist-packages (from tensorflow<2.16,>=2.15.0->tensorflow-text) (1.6.3)\n",
            "Requirement already satisfied: flatbuffers>=23.5.26 in /usr/local/lib/python3.10/dist-packages (from tensorflow<2.16,>=2.15.0->tensorflow-text) (23.5.26)\n",
            "Requirement already satisfied: gast!=0.5.0,!=0.5.1,!=0.5.2,>=0.2.1 in /usr/local/lib/python3.10/dist-packages (from tensorflow<2.16,>=2.15.0->tensorflow-text) (0.5.4)\n",
            "Requirement already satisfied: google-pasta>=0.1.1 in /usr/local/lib/python3.10/dist-packages (from tensorflow<2.16,>=2.15.0->tensorflow-text) (0.2.0)\n",
            "Requirement already satisfied: h5py>=2.9.0 in /usr/local/lib/python3.10/dist-packages (from tensorflow<2.16,>=2.15.0->tensorflow-text) (3.9.0)\n",
            "Requirement already satisfied: libclang>=13.0.0 in /usr/local/lib/python3.10/dist-packages (from tensorflow<2.16,>=2.15.0->tensorflow-text) (16.0.6)\n",
            "Requirement already satisfied: ml-dtypes~=0.2.0 in /usr/local/lib/python3.10/dist-packages (from tensorflow<2.16,>=2.15.0->tensorflow-text) (0.2.0)\n",
            "Requirement already satisfied: numpy<2.0.0,>=1.23.5 in /usr/local/lib/python3.10/dist-packages (from tensorflow<2.16,>=2.15.0->tensorflow-text) (1.23.5)\n",
            "Requirement already satisfied: opt-einsum>=2.3.2 in /usr/local/lib/python3.10/dist-packages (from tensorflow<2.16,>=2.15.0->tensorflow-text) (3.3.0)\n",
            "Requirement already satisfied: packaging in /usr/local/lib/python3.10/dist-packages (from tensorflow<2.16,>=2.15.0->tensorflow-text) (23.2)\n",
            "Requirement already satisfied: protobuf!=4.21.0,!=4.21.1,!=4.21.2,!=4.21.3,!=4.21.4,!=4.21.5,<5.0.0dev,>=3.20.3 in /usr/local/lib/python3.10/dist-packages (from tensorflow<2.16,>=2.15.0->tensorflow-text) (3.20.3)\n",
            "Requirement already satisfied: setuptools in /usr/local/lib/python3.10/dist-packages (from tensorflow<2.16,>=2.15.0->tensorflow-text) (67.7.2)\n",
            "Requirement already satisfied: six>=1.12.0 in /usr/local/lib/python3.10/dist-packages (from tensorflow<2.16,>=2.15.0->tensorflow-text) (1.16.0)\n",
            "Requirement already satisfied: termcolor>=1.1.0 in /usr/local/lib/python3.10/dist-packages (from tensorflow<2.16,>=2.15.0->tensorflow-text) (2.4.0)\n",
            "Requirement already satisfied: typing-extensions>=3.6.6 in /usr/local/lib/python3.10/dist-packages (from tensorflow<2.16,>=2.15.0->tensorflow-text) (4.9.0)\n",
            "Requirement already satisfied: wrapt<1.15,>=1.11.0 in /usr/local/lib/python3.10/dist-packages (from tensorflow<2.16,>=2.15.0->tensorflow-text) (1.14.1)\n",
            "Requirement already satisfied: tensorflow-io-gcs-filesystem>=0.23.1 in /usr/local/lib/python3.10/dist-packages (from tensorflow<2.16,>=2.15.0->tensorflow-text) (0.36.0)\n",
            "Requirement already satisfied: grpcio<2.0,>=1.24.3 in /usr/local/lib/python3.10/dist-packages (from tensorflow<2.16,>=2.15.0->tensorflow-text) (1.60.1)\n",
            "Requirement already satisfied: tensorboard<2.16,>=2.15 in /usr/local/lib/python3.10/dist-packages (from tensorflow<2.16,>=2.15.0->tensorflow-text) (2.15.1)\n",
            "Requirement already satisfied: tensorflow-estimator<2.16,>=2.15.0 in /usr/local/lib/python3.10/dist-packages (from tensorflow<2.16,>=2.15.0->tensorflow-text) (2.15.0)\n",
            "Requirement already satisfied: keras<2.16,>=2.15.0 in /usr/local/lib/python3.10/dist-packages (from tensorflow<2.16,>=2.15.0->tensorflow-text) (2.15.0)\n",
            "Requirement already satisfied: tf-keras>=2.14.1 in /usr/local/lib/python3.10/dist-packages (from tensorflow-hub>=0.13.0->tensorflow-text) (2.15.0)\n",
            "Requirement already satisfied: wheel<1.0,>=0.23.0 in /usr/local/lib/python3.10/dist-packages (from astunparse>=1.6.0->tensorflow<2.16,>=2.15.0->tensorflow-text) (0.42.0)\n",
            "Requirement already satisfied: google-auth<3,>=1.6.3 in /usr/local/lib/python3.10/dist-packages (from tensorboard<2.16,>=2.15->tensorflow<2.16,>=2.15.0->tensorflow-text) (2.17.3)\n",
            "Requirement already satisfied: google-auth-oauthlib<2,>=0.5 in /usr/local/lib/python3.10/dist-packages (from tensorboard<2.16,>=2.15->tensorflow<2.16,>=2.15.0->tensorflow-text) (1.2.0)\n",
            "Requirement already satisfied: markdown>=2.6.8 in /usr/local/lib/python3.10/dist-packages (from tensorboard<2.16,>=2.15->tensorflow<2.16,>=2.15.0->tensorflow-text) (3.5.2)\n",
            "Requirement already satisfied: requests<3,>=2.21.0 in /usr/local/lib/python3.10/dist-packages (from tensorboard<2.16,>=2.15->tensorflow<2.16,>=2.15.0->tensorflow-text) (2.31.0)\n",
            "Requirement already satisfied: tensorboard-data-server<0.8.0,>=0.7.0 in /usr/local/lib/python3.10/dist-packages (from tensorboard<2.16,>=2.15->tensorflow<2.16,>=2.15.0->tensorflow-text) (0.7.2)\n",
            "Requirement already satisfied: werkzeug>=1.0.1 in /usr/local/lib/python3.10/dist-packages (from tensorboard<2.16,>=2.15->tensorflow<2.16,>=2.15.0->tensorflow-text) (3.0.1)\n",
            "Requirement already satisfied: cachetools<6.0,>=2.0.0 in /usr/local/lib/python3.10/dist-packages (from google-auth<3,>=1.6.3->tensorboard<2.16,>=2.15->tensorflow<2.16,>=2.15.0->tensorflow-text) (5.3.2)\n",
            "Requirement already satisfied: pyasn1-modules>=0.2.1 in /usr/local/lib/python3.10/dist-packages (from google-auth<3,>=1.6.3->tensorboard<2.16,>=2.15->tensorflow<2.16,>=2.15.0->tensorflow-text) (0.3.0)\n",
            "Requirement already satisfied: rsa<5,>=3.1.4 in /usr/local/lib/python3.10/dist-packages (from google-auth<3,>=1.6.3->tensorboard<2.16,>=2.15->tensorflow<2.16,>=2.15.0->tensorflow-text) (4.9)\n",
            "Requirement already satisfied: requests-oauthlib>=0.7.0 in /usr/local/lib/python3.10/dist-packages (from google-auth-oauthlib<2,>=0.5->tensorboard<2.16,>=2.15->tensorflow<2.16,>=2.15.0->tensorflow-text) (1.3.1)\n",
            "Requirement already satisfied: charset-normalizer<4,>=2 in /usr/local/lib/python3.10/dist-packages (from requests<3,>=2.21.0->tensorboard<2.16,>=2.15->tensorflow<2.16,>=2.15.0->tensorflow-text) (3.3.2)\n",
            "Requirement already satisfied: idna<4,>=2.5 in /usr/local/lib/python3.10/dist-packages (from requests<3,>=2.21.0->tensorboard<2.16,>=2.15->tensorflow<2.16,>=2.15.0->tensorflow-text) (3.6)\n",
            "Requirement already satisfied: urllib3<3,>=1.21.1 in /usr/local/lib/python3.10/dist-packages (from requests<3,>=2.21.0->tensorboard<2.16,>=2.15->tensorflow<2.16,>=2.15.0->tensorflow-text) (2.0.7)\n",
            "Requirement already satisfied: certifi>=2017.4.17 in /usr/local/lib/python3.10/dist-packages (from requests<3,>=2.21.0->tensorboard<2.16,>=2.15->tensorflow<2.16,>=2.15.0->tensorflow-text) (2024.2.2)\n",
            "Requirement already satisfied: MarkupSafe>=2.1.1 in /usr/local/lib/python3.10/dist-packages (from werkzeug>=1.0.1->tensorboard<2.16,>=2.15->tensorflow<2.16,>=2.15.0->tensorflow-text) (2.1.5)\n",
            "Requirement already satisfied: pyasn1<0.6.0,>=0.4.6 in /usr/local/lib/python3.10/dist-packages (from pyasn1-modules>=0.2.1->google-auth<3,>=1.6.3->tensorboard<2.16,>=2.15->tensorflow<2.16,>=2.15.0->tensorflow-text) (0.5.1)\n",
            "Requirement already satisfied: oauthlib>=3.0.0 in /usr/local/lib/python3.10/dist-packages (from requests-oauthlib>=0.7.0->google-auth-oauthlib<2,>=0.5->tensorboard<2.16,>=2.15->tensorflow<2.16,>=2.15.0->tensorflow-text) (3.2.2)\n",
            "Installing collected packages: tensorflow-text\n",
            "Successfully installed tensorflow-text-2.15.0\n"
          ]
        }
      ],
      "source": [
        "pip install tensorflow-text\n"
      ]
    },
    {
      "cell_type": "code",
      "source": [
        "import tensorflow_hub as hub\n",
        "import tensorflow_text as text"
      ],
      "metadata": {
        "id": "DMKEPMaHd72q"
      },
      "execution_count": 2,
      "outputs": []
    },
    {
      "cell_type": "code",
      "source": [
        "preprocess_url = \"https://tfhub.dev/tensorflow/bert_en_uncased_preprocess/3\"\n",
        "encoder_url = \"https://tfhub.dev/tensorflow/bert_en_uncased_L-12_H-768_A-12/4\""
      ],
      "metadata": {
        "id": "e8Nru_Wjd_-8"
      },
      "execution_count": 3,
      "outputs": []
    },
    {
      "cell_type": "code",
      "source": [
        "bert_preprocess_model = hub.KerasLayer(preprocess_url)"
      ],
      "metadata": {
        "id": "hcnX2cnOeEse"
      },
      "execution_count": 4,
      "outputs": []
    },
    {
      "cell_type": "code",
      "source": [
        "text_test = ['nice movie indeed','I love python programming']\n",
        "text_preprocessed = bert_preprocess_model(text_test)\n",
        "text_preprocessed.keys()"
      ],
      "metadata": {
        "colab": {
          "base_uri": "https://localhost:8080/"
        },
        "id": "D7iPobipeMz6",
        "outputId": "7251f723-393f-4de6-b836-ee3d996c5029"
      },
      "execution_count": 5,
      "outputs": [
        {
          "output_type": "execute_result",
          "data": {
            "text/plain": [
              "dict_keys(['input_word_ids', 'input_mask', 'input_type_ids'])"
            ]
          },
          "metadata": {},
          "execution_count": 5
        }
      ]
    },
    {
      "cell_type": "code",
      "source": [
        "text_preprocessed['input_mask']"
      ],
      "metadata": {
        "colab": {
          "base_uri": "https://localhost:8080/"
        },
        "id": "OsgH0gx1ePXv",
        "outputId": "05682091-93b1-4088-eafd-9edc54644e4a"
      },
      "execution_count": 6,
      "outputs": [
        {
          "output_type": "execute_result",
          "data": {
            "text/plain": [
              "<tf.Tensor: shape=(2, 128), dtype=int32, numpy=\n",
              "array([[1, 1, 1, 1, 1, 0, 0, 0, 0, 0, 0, 0, 0, 0, 0, 0, 0, 0, 0, 0, 0, 0,\n",
              "        0, 0, 0, 0, 0, 0, 0, 0, 0, 0, 0, 0, 0, 0, 0, 0, 0, 0, 0, 0, 0, 0,\n",
              "        0, 0, 0, 0, 0, 0, 0, 0, 0, 0, 0, 0, 0, 0, 0, 0, 0, 0, 0, 0, 0, 0,\n",
              "        0, 0, 0, 0, 0, 0, 0, 0, 0, 0, 0, 0, 0, 0, 0, 0, 0, 0, 0, 0, 0, 0,\n",
              "        0, 0, 0, 0, 0, 0, 0, 0, 0, 0, 0, 0, 0, 0, 0, 0, 0, 0, 0, 0, 0, 0,\n",
              "        0, 0, 0, 0, 0, 0, 0, 0, 0, 0, 0, 0, 0, 0, 0, 0, 0, 0],\n",
              "       [1, 1, 1, 1, 1, 1, 0, 0, 0, 0, 0, 0, 0, 0, 0, 0, 0, 0, 0, 0, 0, 0,\n",
              "        0, 0, 0, 0, 0, 0, 0, 0, 0, 0, 0, 0, 0, 0, 0, 0, 0, 0, 0, 0, 0, 0,\n",
              "        0, 0, 0, 0, 0, 0, 0, 0, 0, 0, 0, 0, 0, 0, 0, 0, 0, 0, 0, 0, 0, 0,\n",
              "        0, 0, 0, 0, 0, 0, 0, 0, 0, 0, 0, 0, 0, 0, 0, 0, 0, 0, 0, 0, 0, 0,\n",
              "        0, 0, 0, 0, 0, 0, 0, 0, 0, 0, 0, 0, 0, 0, 0, 0, 0, 0, 0, 0, 0, 0,\n",
              "        0, 0, 0, 0, 0, 0, 0, 0, 0, 0, 0, 0, 0, 0, 0, 0, 0, 0]],\n",
              "      dtype=int32)>"
            ]
          },
          "metadata": {},
          "execution_count": 6
        }
      ]
    },
    {
      "cell_type": "code",
      "source": [
        "text_preprocessed['input_type_ids']"
      ],
      "metadata": {
        "colab": {
          "base_uri": "https://localhost:8080/"
        },
        "id": "tOpdI9JLe4Cz",
        "outputId": "0b9f847c-0615-46a8-f438-08ee17be8ab6"
      },
      "execution_count": 7,
      "outputs": [
        {
          "output_type": "execute_result",
          "data": {
            "text/plain": [
              "<tf.Tensor: shape=(2, 128), dtype=int32, numpy=\n",
              "array([[0, 0, 0, 0, 0, 0, 0, 0, 0, 0, 0, 0, 0, 0, 0, 0, 0, 0, 0, 0, 0, 0,\n",
              "        0, 0, 0, 0, 0, 0, 0, 0, 0, 0, 0, 0, 0, 0, 0, 0, 0, 0, 0, 0, 0, 0,\n",
              "        0, 0, 0, 0, 0, 0, 0, 0, 0, 0, 0, 0, 0, 0, 0, 0, 0, 0, 0, 0, 0, 0,\n",
              "        0, 0, 0, 0, 0, 0, 0, 0, 0, 0, 0, 0, 0, 0, 0, 0, 0, 0, 0, 0, 0, 0,\n",
              "        0, 0, 0, 0, 0, 0, 0, 0, 0, 0, 0, 0, 0, 0, 0, 0, 0, 0, 0, 0, 0, 0,\n",
              "        0, 0, 0, 0, 0, 0, 0, 0, 0, 0, 0, 0, 0, 0, 0, 0, 0, 0],\n",
              "       [0, 0, 0, 0, 0, 0, 0, 0, 0, 0, 0, 0, 0, 0, 0, 0, 0, 0, 0, 0, 0, 0,\n",
              "        0, 0, 0, 0, 0, 0, 0, 0, 0, 0, 0, 0, 0, 0, 0, 0, 0, 0, 0, 0, 0, 0,\n",
              "        0, 0, 0, 0, 0, 0, 0, 0, 0, 0, 0, 0, 0, 0, 0, 0, 0, 0, 0, 0, 0, 0,\n",
              "        0, 0, 0, 0, 0, 0, 0, 0, 0, 0, 0, 0, 0, 0, 0, 0, 0, 0, 0, 0, 0, 0,\n",
              "        0, 0, 0, 0, 0, 0, 0, 0, 0, 0, 0, 0, 0, 0, 0, 0, 0, 0, 0, 0, 0, 0,\n",
              "        0, 0, 0, 0, 0, 0, 0, 0, 0, 0, 0, 0, 0, 0, 0, 0, 0, 0]],\n",
              "      dtype=int32)>"
            ]
          },
          "metadata": {},
          "execution_count": 7
        }
      ]
    },
    {
      "cell_type": "code",
      "source": [
        "text_preprocessed['input_word_ids']"
      ],
      "metadata": {
        "colab": {
          "base_uri": "https://localhost:8080/"
        },
        "id": "i5hO8TkNe7xC",
        "outputId": "d2f9a083-8afa-454b-8d65-e0594d2385c9"
      },
      "execution_count": 8,
      "outputs": [
        {
          "output_type": "execute_result",
          "data": {
            "text/plain": [
              "<tf.Tensor: shape=(2, 128), dtype=int32, numpy=\n",
              "array([[  101,  3835,  3185,  5262,   102,     0,     0,     0,     0,\n",
              "            0,     0,     0,     0,     0,     0,     0,     0,     0,\n",
              "            0,     0,     0,     0,     0,     0,     0,     0,     0,\n",
              "            0,     0,     0,     0,     0,     0,     0,     0,     0,\n",
              "            0,     0,     0,     0,     0,     0,     0,     0,     0,\n",
              "            0,     0,     0,     0,     0,     0,     0,     0,     0,\n",
              "            0,     0,     0,     0,     0,     0,     0,     0,     0,\n",
              "            0,     0,     0,     0,     0,     0,     0,     0,     0,\n",
              "            0,     0,     0,     0,     0,     0,     0,     0,     0,\n",
              "            0,     0,     0,     0,     0,     0,     0,     0,     0,\n",
              "            0,     0,     0,     0,     0,     0,     0,     0,     0,\n",
              "            0,     0,     0,     0,     0,     0,     0,     0,     0,\n",
              "            0,     0,     0,     0,     0,     0,     0,     0,     0,\n",
              "            0,     0,     0,     0,     0,     0,     0,     0,     0,\n",
              "            0,     0],\n",
              "       [  101,  1045,  2293, 18750,  4730,   102,     0,     0,     0,\n",
              "            0,     0,     0,     0,     0,     0,     0,     0,     0,\n",
              "            0,     0,     0,     0,     0,     0,     0,     0,     0,\n",
              "            0,     0,     0,     0,     0,     0,     0,     0,     0,\n",
              "            0,     0,     0,     0,     0,     0,     0,     0,     0,\n",
              "            0,     0,     0,     0,     0,     0,     0,     0,     0,\n",
              "            0,     0,     0,     0,     0,     0,     0,     0,     0,\n",
              "            0,     0,     0,     0,     0,     0,     0,     0,     0,\n",
              "            0,     0,     0,     0,     0,     0,     0,     0,     0,\n",
              "            0,     0,     0,     0,     0,     0,     0,     0,     0,\n",
              "            0,     0,     0,     0,     0,     0,     0,     0,     0,\n",
              "            0,     0,     0,     0,     0,     0,     0,     0,     0,\n",
              "            0,     0,     0,     0,     0,     0,     0,     0,     0,\n",
              "            0,     0,     0,     0,     0,     0,     0,     0,     0,\n",
              "            0,     0]], dtype=int32)>"
            ]
          },
          "metadata": {},
          "execution_count": 8
        }
      ]
    },
    {
      "cell_type": "code",
      "source": [
        "bert_model = hub.KerasLayer(encoder_url)"
      ],
      "metadata": {
        "id": "SQ1AEuJagsI6"
      },
      "execution_count": 9,
      "outputs": []
    },
    {
      "cell_type": "code",
      "source": [
        "bert_results = bert_model(text_preprocessed)"
      ],
      "metadata": {
        "id": "hb9FmGz7gzl9"
      },
      "execution_count": 10,
      "outputs": []
    },
    {
      "cell_type": "code",
      "source": [
        "bert_results.keys()"
      ],
      "metadata": {
        "colab": {
          "base_uri": "https://localhost:8080/"
        },
        "id": "lc3H5cQlg2nl",
        "outputId": "8d3d20c3-01de-40d6-892b-af3619f68fb1"
      },
      "execution_count": 11,
      "outputs": [
        {
          "output_type": "execute_result",
          "data": {
            "text/plain": [
              "dict_keys(['sequence_output', 'pooled_output', 'encoder_outputs', 'default'])"
            ]
          },
          "metadata": {},
          "execution_count": 11
        }
      ]
    },
    {
      "cell_type": "code",
      "source": [
        "bert_results['sequence_output']"
      ],
      "metadata": {
        "colab": {
          "base_uri": "https://localhost:8080/"
        },
        "id": "Svp6k70lg6m_",
        "outputId": "4a861a23-b5f5-4cbd-9762-97eaaae2e5d1"
      },
      "execution_count": 12,
      "outputs": [
        {
          "output_type": "execute_result",
          "data": {
            "text/plain": [
              "<tf.Tensor: shape=(2, 128, 768), dtype=float32, numpy=\n",
              "array([[[ 0.07292055,  0.08567822,  0.14476831, ..., -0.0967709 ,\n",
              "          0.08722139,  0.07711068],\n",
              "        [ 0.17839365, -0.19006082,  0.5034951 , ..., -0.05869842,\n",
              "          0.3271711 , -0.15578556],\n",
              "        [ 0.18701443, -0.43388733, -0.48875216, ..., -0.15502742,\n",
              "          0.00145182, -0.24470933],\n",
              "        ...,\n",
              "        [ 0.12083032,  0.1288427 ,  0.46453518, ...,  0.07375532,\n",
              "          0.17441945,  0.16522188],\n",
              "        [ 0.07967904, -0.01190669,  0.5022545 , ...,  0.13777721,\n",
              "          0.21002236,  0.00624595],\n",
              "        [-0.07212678, -0.28303453,  0.5903338 , ...,  0.47551897,\n",
              "          0.16668475, -0.0892035 ]],\n",
              "\n",
              "       [[-0.07900588,  0.3633512 , -0.21101615, ..., -0.17183745,\n",
              "          0.16299728,  0.6724266 ],\n",
              "        [ 0.27883428,  0.43716276, -0.35764802, ..., -0.04463619,\n",
              "          0.38315177,  0.58879846],\n",
              "        [ 1.2037671 ,  1.0727018 ,  0.48408794, ...,  0.24921013,\n",
              "          0.4073096 ,  0.40481815],\n",
              "        ...,\n",
              "        [ 0.08630034,  0.19353831,  0.4754002 , ...,  0.1888015 ,\n",
              "         -0.06474093,  0.31318572],\n",
              "        [ 0.15887016,  0.2857266 ,  0.37340802, ...,  0.09309152,\n",
              "         -0.04969541,  0.38761094],\n",
              "        [-0.08079845, -0.09572794,  0.26809788, ...,  0.13979593,\n",
              "         -0.06315881,  0.27288336]]], dtype=float32)>"
            ]
          },
          "metadata": {},
          "execution_count": 12
        }
      ]
    },
    {
      "cell_type": "code",
      "source": [
        "bert_results['pooled_output']"
      ],
      "metadata": {
        "colab": {
          "base_uri": "https://localhost:8080/"
        },
        "id": "eYUu6tEphBfu",
        "outputId": "69c738b3-7b46-4d97-d6b4-f2101c3b91f0"
      },
      "execution_count": 13,
      "outputs": [
        {
          "output_type": "execute_result",
          "data": {
            "text/plain": [
              "<tf.Tensor: shape=(2, 768), dtype=float32, numpy=\n",
              "array([[-0.791774  , -0.21411912,  0.49769545, ...,  0.24465235,\n",
              "        -0.47334474,  0.8175869 ],\n",
              "       [-0.9171231 , -0.4793518 , -0.78656983, ..., -0.6175178 ,\n",
              "        -0.7102687 ,  0.92184305]], dtype=float32)>"
            ]
          },
          "metadata": {},
          "execution_count": 13
        }
      ]
    },
    {
      "cell_type": "code",
      "source": [
        "len(bert_results['encoder_outputs'])"
      ],
      "metadata": {
        "colab": {
          "base_uri": "https://localhost:8080/"
        },
        "id": "xGHOwTp6hFJU",
        "outputId": "7c0d391e-b1e6-4709-93ef-cd095b4f9977"
      },
      "execution_count": 14,
      "outputs": [
        {
          "output_type": "execute_result",
          "data": {
            "text/plain": [
              "12"
            ]
          },
          "metadata": {},
          "execution_count": 14
        }
      ]
    },
    {
      "cell_type": "code",
      "source": [
        "bert_results['encoder_outputs'][-1] == bert_results['sequence_output']"
      ],
      "metadata": {
        "colab": {
          "base_uri": "https://localhost:8080/"
        },
        "id": "unHPqV9thIE0",
        "outputId": "d9f6b660-8207-4ed5-d1fc-234778ca4452"
      },
      "execution_count": 15,
      "outputs": [
        {
          "output_type": "execute_result",
          "data": {
            "text/plain": [
              "<tf.Tensor: shape=(2, 128, 768), dtype=bool, numpy=\n",
              "array([[[ True,  True,  True, ...,  True,  True,  True],\n",
              "        [ True,  True,  True, ...,  True,  True,  True],\n",
              "        [ True,  True,  True, ...,  True,  True,  True],\n",
              "        ...,\n",
              "        [ True,  True,  True, ...,  True,  True,  True],\n",
              "        [ True,  True,  True, ...,  True,  True,  True],\n",
              "        [ True,  True,  True, ...,  True,  True,  True]],\n",
              "\n",
              "       [[ True,  True,  True, ...,  True,  True,  True],\n",
              "        [ True,  True,  True, ...,  True,  True,  True],\n",
              "        [ True,  True,  True, ...,  True,  True,  True],\n",
              "        ...,\n",
              "        [ True,  True,  True, ...,  True,  True,  True],\n",
              "        [ True,  True,  True, ...,  True,  True,  True],\n",
              "        [ True,  True,  True, ...,  True,  True,  True]]])>"
            ]
          },
          "metadata": {},
          "execution_count": 15
        }
      ]
    },
    {
      "cell_type": "code",
      "source": [
        "bert_results['encoder_outputs']"
      ],
      "metadata": {
        "colab": {
          "base_uri": "https://localhost:8080/"
        },
        "id": "3unaVwjIhM-s",
        "outputId": "887bf0c2-d0c8-4540-c66b-8a3c37b148eb"
      },
      "execution_count": 16,
      "outputs": [
        {
          "output_type": "execute_result",
          "data": {
            "text/plain": [
              "[<tf.Tensor: shape=(2, 128, 768), dtype=float32, numpy=\n",
              " array([[[ 0.12901421,  0.00644748, -0.03614976, ...,  0.0499962 ,\n",
              "           0.06149195, -0.02657544],\n",
              "         [ 1.1753381 ,  1.2140785 ,  1.1569979 , ...,  0.11634363,\n",
              "          -0.35855386, -0.40490177],\n",
              "         [ 0.03859037,  0.5387001 , -0.21089742, ...,  0.21858224,\n",
              "           0.7260169 , -1.1158608 ],\n",
              "         ...,\n",
              "         [-0.07587021, -0.25421932,  0.70755106, ...,  0.5054199 ,\n",
              "          -0.18878676,  0.15028355],\n",
              "         [-0.16066597, -0.2808966 ,  0.5759704 , ...,  0.5275857 ,\n",
              "          -0.11141372,  0.02887536],\n",
              "         [-0.04428157, -0.20279576,  0.5909352 , ...,  0.81338364,\n",
              "          -0.39075834, -0.02601745]],\n",
              " \n",
              "        [[ 0.18903573,  0.02752537, -0.06513736, ..., -0.00620203,\n",
              "           0.15053879,  0.03165448],\n",
              "         [ 0.5916147 ,  0.75891393, -0.07240679, ...,  0.6190399 ,\n",
              "           0.8292891 ,  0.16161983],\n",
              "         [ 1.446083  ,  0.44602662,  0.40990242, ...,  0.48255908,\n",
              "           0.6269118 ,  0.13463382],\n",
              "         ...,\n",
              "         [ 0.15147918, -0.21573836,  0.7032909 , ..., -0.12537253,\n",
              "          -0.1378726 ,  0.27722064],\n",
              "         [ 0.05143797, -0.24052678,  0.5356915 , ..., -0.07915033,\n",
              "          -0.03307921,  0.17380956],\n",
              "         [ 0.20934714, -0.15645261,  0.6039549 , ...,  0.32903534,\n",
              "          -0.35827166,  0.0810044 ]]], dtype=float32)>,\n",
              " <tf.Tensor: shape=(2, 128, 768), dtype=float32, numpy=\n",
              " array([[[ 0.01418152, -0.2208824 , -0.15028167, ...,  0.11415628,\n",
              "           0.12618077,  0.04843377],\n",
              "         [ 1.2033902 ,  1.3469868 ,  1.7064533 , ...,  0.3061055 ,\n",
              "          -0.5074259 , -0.55147487],\n",
              "         [ 0.42169094,  0.81102455, -0.25631553, ..., -0.07722503,\n",
              "           0.8937239 , -1.4472063 ],\n",
              "         ...,\n",
              "         [-0.19047455, -0.23860922,  0.81412065, ...,  0.9749362 ,\n",
              "          -0.3477422 , -0.08733561],\n",
              "         [-0.27150998, -0.3198504 ,  0.76593894, ...,  0.9676168 ,\n",
              "          -0.29511926, -0.15731819],\n",
              "         [-0.2130279 , -0.19229731,  0.73387754, ...,  1.104044  ,\n",
              "          -0.4510292 , -0.20683086]],\n",
              " \n",
              "        [[ 0.0897334 , -0.18419708, -0.16645083, ...,  0.02761342,\n",
              "           0.11187722,  0.0804172 ],\n",
              "         [ 0.58311325,  0.5957031 ,  0.36019528, ...,  0.41270134,\n",
              "           0.2680921 ,  0.28400576],\n",
              "         [ 2.1166677 ,  0.51769394,  0.8637747 , ...,  0.71787345,\n",
              "           0.3240513 ,  0.09739996],\n",
              "         ...,\n",
              "         [ 0.24372895, -0.05775566,  0.68428767, ...,  0.43483648,\n",
              "          -0.57660985, -0.11131065],\n",
              "         [ 0.16803858, -0.03091802,  0.5863846 , ...,  0.49625856,\n",
              "          -0.5056794 , -0.20782165],\n",
              "         [ 0.24831761,  0.00315441,  0.5159255 , ...,  0.8050243 ,\n",
              "          -0.6989964 , -0.24186425]]], dtype=float32)>,\n",
              " <tf.Tensor: shape=(2, 128, 768), dtype=float32, numpy=\n",
              " array([[[ 0.02275418, -0.2798023 ,  0.02345695, ...,  0.27867025,\n",
              "           0.11714812,  0.18175091],\n",
              "         [ 1.257484  ,  0.87250835,  1.6266009 , ...,  0.45210895,\n",
              "          -0.8090259 , -0.5448983 ],\n",
              "         [ 0.7521986 ,  0.6357365 , -0.20566136, ..., -0.3238177 ,\n",
              "           0.75749546, -1.4587923 ],\n",
              "         ...,\n",
              "         [-0.15107423, -0.21129131,  0.9689463 , ...,  1.1261969 ,\n",
              "          -0.03214071, -0.22340263],\n",
              "         [-0.28125632, -0.311401  ,  0.843289  , ...,  1.1342672 ,\n",
              "          -0.08336596, -0.25161245],\n",
              "         [-0.24449062, -0.21537887,  0.9480981 , ...,  1.2419423 ,\n",
              "          -0.19873542, -0.3375258 ]],\n",
              " \n",
              "        [[ 0.10617064, -0.27990746, -0.01731808, ...,  0.20060422,\n",
              "           0.08148403,  0.2185907 ],\n",
              "         [ 0.68925834,  0.315915  ,  0.5558663 , ...,  0.69039506,\n",
              "          -0.07141574,  0.41407225],\n",
              "         [ 2.5758882 ,  0.62520885,  1.2503712 , ...,  0.43957815,\n",
              "          -0.18525596, -0.0500484 ],\n",
              "         ...,\n",
              "         [ 0.20464349, -0.01561989,  0.8343142 , ...,  0.8014958 ,\n",
              "          -0.12853882, -0.35842037],\n",
              "         [-0.02875653,  0.05097857,  0.68159264, ...,  0.900315  ,\n",
              "          -0.12434852, -0.4225635 ],\n",
              "         [ 0.13327706,  0.02257279,  0.7722175 , ...,  1.0211189 ,\n",
              "          -0.30834693, -0.45623183]]], dtype=float32)>,\n",
              " <tf.Tensor: shape=(2, 128, 768), dtype=float32, numpy=\n",
              " array([[[ 0.11484878, -0.64441085, -0.14245227, ...,  0.25474226,\n",
              "           0.00378421,  0.61105084],\n",
              "         [ 1.3035425 ,  0.77060544,  1.3184996 , ...,  0.3582248 ,\n",
              "          -0.6412162 , -0.327954  ],\n",
              "         [ 1.1896739 ,  0.627944  , -0.6750161 , ..., -0.28870678,\n",
              "           0.47791865, -1.2806    ],\n",
              "         ...,\n",
              "         [-0.22614789, -0.62763   ,  1.0227488 , ...,  0.82923204,\n",
              "          -0.4031472 ,  0.04389323],\n",
              "         [-0.39901435, -0.75619113,  0.7489383 , ...,  0.7492259 ,\n",
              "          -0.45077693, -0.00367925],\n",
              "         [-0.37728783, -0.7831038 ,  0.9057245 , ...,  0.97362316,\n",
              "          -0.48285794, -0.07389847]],\n",
              " \n",
              "        [[ 0.15151411, -0.7075223 , -0.27520427, ...,  0.44345912,\n",
              "          -0.20920397,  0.4986013 ],\n",
              "         [ 0.886479  , -0.24838136,  0.73537457, ...,  0.7417938 ,\n",
              "          -0.13177206,  0.10158519],\n",
              "         [ 2.5865815 ,  0.61882895,  0.5279879 , ...,  0.8487315 ,\n",
              "          -0.5915019 ,  0.02349945],\n",
              "         ...,\n",
              "         [-0.05526862, -0.4339469 ,  1.1783327 , ...,  0.9179168 ,\n",
              "          -0.45718178, -0.2501461 ],\n",
              "         [-0.29328683, -0.23091213,  0.993801  , ...,  1.0353789 ,\n",
              "          -0.42435688, -0.34947595],\n",
              "         [-0.15899086, -0.5009819 ,  0.981422  , ...,  1.1373078 ,\n",
              "          -0.61888367, -0.44457778]]], dtype=float32)>,\n",
              " <tf.Tensor: shape=(2, 128, 768), dtype=float32, numpy=\n",
              " array([[[-0.22174802, -0.42225283, -0.04924069, ..., -0.26284206,\n",
              "           0.06099975,  0.6379483 ],\n",
              "         [ 1.1627895 ,  0.6770546 ,  1.3072386 , ...,  0.22794634,\n",
              "          -0.54329526, -0.27383298],\n",
              "         [ 1.530823  ,  0.7222546 , -0.43608698, ...,  0.27435791,\n",
              "           0.24980207, -0.9875371 ],\n",
              "         ...,\n",
              "         [-0.17669734, -0.31260553,  1.0875317 , ...,  0.59242225,\n",
              "           0.0127534 , -0.28171813],\n",
              "         [-0.3447371 , -0.42430094,  0.87980306, ...,  0.5482613 ,\n",
              "          -0.08151869, -0.34001416],\n",
              "         [-0.48139903, -0.31324288,  1.1702338 , ...,  0.87309915,\n",
              "          -0.07970168, -0.45325541]],\n",
              " \n",
              "        [[-0.21608111, -0.8986416 , -0.44991523, ..., -0.08286212,\n",
              "          -0.1722687 ,  0.6619982 ],\n",
              "         [ 0.6661451 , -0.5491694 ,  0.46460545, ...,  0.17649315,\n",
              "           0.22822574,  0.3496222 ],\n",
              "         [ 2.062962  ,  0.6991985 ,  0.35604498, ...,  0.5295338 ,\n",
              "          -0.3480928 ,  0.0083142 ],\n",
              "         ...,\n",
              "         [-0.1159403 , -0.17149329,  0.89943945, ...,  0.6299009 ,\n",
              "          -0.33990213, -0.2004925 ],\n",
              "         [-0.13007542, -0.02739098,  0.7079981 , ...,  0.80594623,\n",
              "          -0.30724126, -0.19956294],\n",
              "         [-0.26314822, -0.26137102,  0.63385725, ...,  0.8150183 ,\n",
              "          -0.45400357, -0.35120663]]], dtype=float32)>,\n",
              " <tf.Tensor: shape=(2, 128, 768), dtype=float32, numpy=\n",
              " array([[[-0.03392677, -0.3943147 ,  0.04223679, ..., -0.07905619,\n",
              "           0.01993911,  0.7692067 ],\n",
              "         [ 1.4294362 , -0.08698949,  1.5299488 , ...,  0.22512089,\n",
              "          -1.0060072 , -0.23702322],\n",
              "         [ 1.5031741 ,  0.672579  , -0.52590245, ...,  0.10906944,\n",
              "           0.27042377, -1.2567499 ],\n",
              "         ...,\n",
              "         [-0.30033556, -0.02261927,  1.3187405 , ...,  0.692888  ,\n",
              "          -0.09798385, -0.17419575],\n",
              "         [-0.43754092, -0.2114931 ,  1.1094581 , ...,  0.5006598 ,\n",
              "          -0.17692336, -0.18529084],\n",
              "         [-0.6592051 , -0.19607924,  1.3134061 , ...,  0.73200804,\n",
              "          -0.1996734 , -0.32469204]],\n",
              " \n",
              "        [[-0.27334654, -0.95268434, -0.78696585, ..., -0.12205296,\n",
              "          -0.08783744,  0.7581164 ],\n",
              "         [ 0.46756965, -0.16237536, -0.0115589 , ...,  0.1878122 ,\n",
              "           0.62164754,  0.03009917],\n",
              "         [ 1.79474   ,  0.9051073 ,  0.08580941, ...,  0.77093583,\n",
              "          -0.6682785 , -0.06755422],\n",
              "         ...,\n",
              "         [-0.18337478, -0.15806623,  1.1826942 , ...,  0.8304749 ,\n",
              "          -0.39406446, -0.23047724],\n",
              "         [-0.22270218,  0.00975955,  0.9340847 , ...,  1.1286675 ,\n",
              "          -0.3488434 , -0.19491392],\n",
              "         [-0.30386078, -0.2968311 ,  0.824717  , ...,  1.0090814 ,\n",
              "          -0.464077  , -0.314656  ]]], dtype=float32)>,\n",
              " <tf.Tensor: shape=(2, 128, 768), dtype=float32, numpy=\n",
              " array([[[-0.23803411, -0.6655409 ,  0.29917127, ...,  0.03415164,\n",
              "           0.29362866,  0.9653633 ],\n",
              "         [ 1.5040759 ,  0.00695119,  1.4314137 , ...,  0.2462879 ,\n",
              "          -0.5521957 , -0.3221555 ],\n",
              "         [ 1.3629028 ,  0.47741783, -0.61529976, ...,  0.08586958,\n",
              "           0.43922526, -1.559415  ],\n",
              "         ...,\n",
              "         [-0.1686402 ,  0.00209686,  1.3201764 , ...,  0.94280446,\n",
              "          -0.04737277,  0.21490541],\n",
              "         [-0.26666325, -0.24881358,  1.2213271 , ...,  0.63528   ,\n",
              "          -0.04442456,  0.04466303],\n",
              "         [-0.5336618 , -0.35796118,  1.3447866 , ...,  0.603845  ,\n",
              "          -0.08427169, -0.15712118]],\n",
              " \n",
              "        [[-0.05967433, -0.84482145, -0.89390194, ..., -0.10863851,\n",
              "           0.40932417,  0.7940857 ],\n",
              "         [ 0.5440509 , -0.3196297 , -0.45491567, ...,  0.48068655,\n",
              "           0.77862656,  0.22774293],\n",
              "         [ 1.4479873 ,  1.1230611 ,  0.09568008, ...,  1.3554294 ,\n",
              "           0.06143611, -0.00836843],\n",
              "         ...,\n",
              "         [ 0.25652295, -0.14106564,  1.1854343 , ...,  0.9568369 ,\n",
              "          -0.21603894, -0.06946376],\n",
              "         [ 0.25819087,  0.0794918 ,  0.9851649 , ...,  1.0518225 ,\n",
              "          -0.07890882, -0.12841459],\n",
              "         [-0.05268838, -0.33431304,  0.9637353 , ...,  0.8960704 ,\n",
              "          -0.10082416, -0.28129575]]], dtype=float32)>,\n",
              " <tf.Tensor: shape=(2, 128, 768), dtype=float32, numpy=\n",
              " array([[[-7.0827082e-02, -2.5689921e-01, -3.5962660e-02, ...,\n",
              "          -3.5881221e-01,  1.3524821e-01,  1.0136112e+00],\n",
              "         [ 9.7471923e-01, -1.9712800e-01,  1.4318075e+00, ...,\n",
              "          -1.4052019e-01, -5.0431542e-02, -2.7142409e-02],\n",
              "         [ 1.1273395e+00,  2.7122754e-01, -2.8623044e-01, ...,\n",
              "           9.3385831e-02,  2.9908296e-01, -1.3764440e+00],\n",
              "         ...,\n",
              "         [-9.5786899e-02,  2.9180798e-01,  1.5879146e+00, ...,\n",
              "           8.5004312e-01, -5.1284716e-02,  2.0340130e-01],\n",
              "         [-2.2268789e-01, -8.3896749e-02,  1.7256012e+00, ...,\n",
              "           6.1222178e-01,  1.0976554e-01,  7.0046976e-02],\n",
              "         [-5.7830089e-01, -3.5915750e-01,  1.6035951e+00, ...,\n",
              "           3.4189877e-01,  5.2880548e-02, -1.5401034e-01]],\n",
              " \n",
              "        [[ 6.1018072e-02, -3.5161638e-01, -8.4891391e-01, ...,\n",
              "          -4.8554921e-01,  4.2703128e-01,  6.3828963e-01],\n",
              "         [ 6.6376466e-01,  1.8243399e-04, -7.9078877e-01, ...,\n",
              "           3.0686980e-01,  7.5843799e-01,  7.3240161e-01],\n",
              "         [ 1.4494705e+00,  1.1265037e+00,  1.7709222e-01, ...,\n",
              "           2.3471576e-01,  3.4929591e-01,  4.3709806e-01],\n",
              "         ...,\n",
              "         [ 3.2339513e-01,  1.7575857e-01,  8.7672353e-01, ...,\n",
              "           9.8904103e-01, -2.7050725e-01, -3.0809402e-01],\n",
              "         [ 4.0404272e-01,  5.1364940e-01,  7.2748125e-01, ...,\n",
              "           9.4942099e-01, -1.0215143e-02, -3.4644285e-01],\n",
              "         [-9.1296537e-03, -8.7015718e-02,  7.3031956e-01, ...,\n",
              "           8.5439771e-01, -1.3661313e-01, -4.7493494e-01]]], dtype=float32)>,\n",
              " <tf.Tensor: shape=(2, 128, 768), dtype=float32, numpy=\n",
              " array([[[-0.09403502, -0.0598759 , -0.01171703, ..., -0.22167508,\n",
              "          -0.0765008 ,  0.57658094],\n",
              "         [ 0.7748064 ,  0.15188324,  1.0920008 , ..., -0.19562425,\n",
              "           0.15173244, -0.01071479],\n",
              "         [ 0.8519124 ,  0.25842696, -0.77035654, ...,  0.03356674,\n",
              "           0.34010428, -1.3918682 ],\n",
              "         ...,\n",
              "         [-0.19780347,  0.5281977 ,  0.9023521 , ...,  0.27919805,\n",
              "          -0.28764108,  0.7510944 ],\n",
              "         [-0.35067305,  0.09291863,  1.3383346 , ...,  0.22619627,\n",
              "          -0.0358902 ,  0.27343926],\n",
              "         [-0.9044512 , -0.20991278,  1.1977333 , ...,  0.35118538,\n",
              "          -0.21743725,  0.01482186]],\n",
              " \n",
              "        [[-0.07011066, -0.02392551, -0.6192432 , ..., -0.14541993,\n",
              "           0.34049368,  0.4122473 ],\n",
              "         [ 0.5926157 ,  0.19015887, -0.37399578, ...,  0.37239587,\n",
              "           0.39152932,  0.42580467],\n",
              "         [ 1.1394781 ,  0.84398574,  0.38894007, ...,  0.20898305,\n",
              "           0.25176457,  0.26400018],\n",
              "         ...,\n",
              "         [ 0.4330596 ,  0.42012152,  1.0965097 , ...,  1.1872363 ,\n",
              "          -0.16672063,  0.00856209],\n",
              "         [ 0.5754236 ,  0.8660937 ,  1.1184684 , ...,  1.0475057 ,\n",
              "           0.04264343, -0.01540394],\n",
              "         [-0.05487905, -0.07306784,  0.901222  , ...,  0.80045336,\n",
              "          -0.16820672, -0.35507348]]], dtype=float32)>,\n",
              " <tf.Tensor: shape=(2, 128, 768), dtype=float32, numpy=\n",
              " array([[[-0.2267138 ,  0.03110849,  0.32186064, ..., -0.2809016 ,\n",
              "          -0.75050765,  0.44557938],\n",
              "         [ 0.7712551 ,  0.11217989,  0.66033155, ..., -0.09223818,\n",
              "           0.3482119 , -0.36905125],\n",
              "         [ 0.5122399 , -0.19928984, -0.84775174, ..., -0.28812045,\n",
              "           0.22383785, -1.21246   ],\n",
              "         ...,\n",
              "         [ 0.1250063 ,  0.66634035,  0.9852201 , ..., -0.08709285,\n",
              "          -0.5805467 ,  0.61272496],\n",
              "         [ 0.01400455,  0.10471182,  1.268482  , ..., -0.01833158,\n",
              "          -0.35933182,  0.15463242],\n",
              "         [-0.80938387, -0.3606816 ,  1.3501264 , ...,  0.5893608 ,\n",
              "          -0.509324  , -0.09766985]],\n",
              " \n",
              "        [[-0.21534982, -0.23962215, -0.30932397, ..., -0.2596489 ,\n",
              "           0.09695228,  0.41826642],\n",
              "         [ 0.5070059 , -0.01544888, -0.10519671, ...,  0.38675332,\n",
              "           0.22041166, -0.10293202],\n",
              "         [ 1.0366057 ,  0.91713125,  0.26164213, ...,  0.33182138,\n",
              "           0.45597157,  0.1269786 ],\n",
              "         ...,\n",
              "         [ 0.1619054 ,  0.7627012 ,  1.2737671 , ...,  0.5725994 ,\n",
              "          -0.05929483,  0.26224092],\n",
              "         [ 0.46124506,  1.1673876 ,  0.9594775 , ...,  0.4603303 ,\n",
              "           0.13521399,  0.45136017],\n",
              "         [-0.24184012,  0.1735297 ,  0.8415654 , ...,  0.24766815,\n",
              "          -0.14810283,  0.06557474]]], dtype=float32)>,\n",
              " <tf.Tensor: shape=(2, 128, 768), dtype=float32, numpy=\n",
              " array([[[-2.1951817e-02,  2.1303622e-01,  3.1135884e-01, ...,\n",
              "          -2.3917928e-01, -2.7870852e-01,  2.0408422e-01],\n",
              "         [ 8.3098394e-01,  1.9078180e-01,  7.1134585e-01, ...,\n",
              "          -3.0024460e-01,  3.1152475e-01, -2.5934017e-01],\n",
              "         [ 3.7308919e-01, -4.2212591e-01, -6.6691017e-01, ...,\n",
              "          -4.5297611e-01,  3.2045260e-01, -2.9988569e-01],\n",
              "         ...,\n",
              "         [ 3.3166385e-01,  7.1835893e-01,  8.9961088e-01, ...,\n",
              "          -3.4914461e-01, -2.9986989e-01,  5.2389038e-01],\n",
              "         [ 2.3853347e-01,  2.0484379e-01,  1.1306427e+00, ...,\n",
              "          -1.5113059e-01, -1.3781103e-01,  7.6999433e-02],\n",
              "         [-3.8412094e-01, -3.8158765e-01,  1.3397284e+00, ...,\n",
              "           5.7755482e-01, -1.5540044e-01, -2.9294565e-01]],\n",
              " \n",
              "        [[ 1.4363045e-01,  1.6980174e-01,  4.5119885e-02, ...,\n",
              "          -6.2167332e-02, -1.5753213e-02,  2.8787023e-01],\n",
              "         [ 5.8475965e-01,  2.6993227e-01, -2.8520730e-01, ...,\n",
              "           3.3893120e-01,  1.1777285e-01,  3.6986858e-02],\n",
              "         [ 1.2525790e+00,  1.2556448e+00,  3.8754487e-01, ...,\n",
              "           1.7275690e-01,  4.9666291e-01,  6.1378133e-01],\n",
              "         ...,\n",
              "         [ 1.9548625e-01,  4.4081971e-01,  1.0389364e+00, ...,\n",
              "           1.4527008e-01, -2.7743858e-01,  1.9032192e-01],\n",
              "         [ 4.4816440e-01,  7.6447785e-01,  6.9800574e-01, ...,\n",
              "          -8.3556212e-04, -7.9644121e-02,  4.9335867e-01],\n",
              "         [-2.3398042e-01, -2.0333456e-01,  3.4824839e-01, ...,\n",
              "          -6.4342588e-02, -3.2087594e-01,  2.2334768e-02]]], dtype=float32)>,\n",
              " <tf.Tensor: shape=(2, 128, 768), dtype=float32, numpy=\n",
              " array([[[ 0.07292055,  0.08567822,  0.14476831, ..., -0.0967709 ,\n",
              "           0.08722139,  0.07711068],\n",
              "         [ 0.17839365, -0.19006082,  0.5034951 , ..., -0.05869842,\n",
              "           0.3271711 , -0.15578556],\n",
              "         [ 0.18701443, -0.43388733, -0.48875216, ..., -0.15502742,\n",
              "           0.00145182, -0.24470933],\n",
              "         ...,\n",
              "         [ 0.12083032,  0.1288427 ,  0.46453518, ...,  0.07375532,\n",
              "           0.17441945,  0.16522188],\n",
              "         [ 0.07967904, -0.01190669,  0.5022545 , ...,  0.13777721,\n",
              "           0.21002236,  0.00624595],\n",
              "         [-0.07212678, -0.28303453,  0.5903338 , ...,  0.47551897,\n",
              "           0.16668475, -0.0892035 ]],\n",
              " \n",
              "        [[-0.07900588,  0.3633512 , -0.21101615, ..., -0.17183745,\n",
              "           0.16299728,  0.6724266 ],\n",
              "         [ 0.27883428,  0.43716276, -0.35764802, ..., -0.04463619,\n",
              "           0.38315177,  0.58879846],\n",
              "         [ 1.2037671 ,  1.0727018 ,  0.48408794, ...,  0.24921013,\n",
              "           0.4073096 ,  0.40481815],\n",
              "         ...,\n",
              "         [ 0.08630034,  0.19353831,  0.4754002 , ...,  0.1888015 ,\n",
              "          -0.06474093,  0.31318572],\n",
              "         [ 0.15887016,  0.2857266 ,  0.37340802, ...,  0.09309152,\n",
              "          -0.04969541,  0.38761094],\n",
              "         [-0.08079845, -0.09572794,  0.26809788, ...,  0.13979593,\n",
              "          -0.06315881,  0.27288336]]], dtype=float32)>]"
            ]
          },
          "metadata": {},
          "execution_count": 16
        }
      ]
    }
  ]
}