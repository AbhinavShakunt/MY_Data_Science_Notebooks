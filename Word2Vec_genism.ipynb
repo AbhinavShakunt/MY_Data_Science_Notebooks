{
  "nbformat": 4,
  "nbformat_minor": 0,
  "metadata": {
    "colab": {
      "provenance": [],
      "mount_file_id": "1ojq1s0neE-4A1hucWEfYOhCA--VhRo6j",
      "authorship_tag": "ABX9TyO92U/VcZitX+mRC2wOR/tx",
      "include_colab_link": true
    },
    "kernelspec": {
      "name": "python3",
      "display_name": "Python 3"
    },
    "language_info": {
      "name": "python"
    }
  },
  "cells": [
    {
      "cell_type": "markdown",
      "metadata": {
        "id": "view-in-github",
        "colab_type": "text"
      },
      "source": [
        "<a href=\"https://colab.research.google.com/github/AbhinavShakunt/MY_Data_Science_Notebooks/blob/main/Word2Vec_genism.ipynb\" target=\"_parent\"><img src=\"https://colab.research.google.com/assets/colab-badge.svg\" alt=\"Open In Colab\"/></a>"
      ]
    },
    {
      "cell_type": "code",
      "execution_count": 1,
      "metadata": {
        "id": "wVVlx_smeeeA"
      },
      "outputs": [],
      "source": [
        "import gensim\n",
        "import pandas as pd"
      ]
    },
    {
      "cell_type": "code",
      "source": [
        "df = pd.read_json(\"/content/drive/MyDrive/Cell_Phones_and_Accessories_5.json\", lines=True)\n",
        "df"
      ],
      "metadata": {
        "colab": {
          "base_uri": "https://localhost:8080/",
          "height": 597
        },
        "id": "VQGs5G8_grDJ",
        "outputId": "bc132a8e-7ebd-4dee-cc14-a261f5e32e49"
      },
      "execution_count": 2,
      "outputs": [
        {
          "output_type": "execute_result",
          "data": {
            "text/plain": [
              "            reviewerID        asin       reviewerName helpful  \\\n",
              "0       A30TL5EWN6DFXT  120401325X          christina  [0, 0]   \n",
              "1        ASY55RVNIL0UD  120401325X           emily l.  [0, 0]   \n",
              "2       A2TMXE2AFO7ONB  120401325X              Erica  [0, 0]   \n",
              "3        AWJ0WZQYMYFQ4  120401325X                 JM  [4, 4]   \n",
              "4        ATX7CZYFXI1KW  120401325X   patrice m rogoza  [2, 3]   \n",
              "...                ...         ...                ...     ...   \n",
              "194434  A1YMNTFLNDYQ1F  B00LORXVUE    eyeused2loveher  [0, 0]   \n",
              "194435  A15TX8B2L8B20S  B00LORXVUE       Jon Davidson  [0, 0]   \n",
              "194436  A3JI7QRZO1QG8X  B00LORXVUE  Joyce M. Davidson  [0, 0]   \n",
              "194437  A1NHB2VC68YQNM  B00LORXVUE     Nurse Farrugia  [0, 0]   \n",
              "194438  A1AG6U022WHXBF  B00LORXVUE     Trisha Crocker  [0, 0]   \n",
              "\n",
              "                                               reviewText  overall  \\\n",
              "0       They look good and stick good! I just don't li...        4   \n",
              "1       These stickers work like the review says they ...        5   \n",
              "2       These are awesome and make my phone look so st...        5   \n",
              "3       Item arrived in great time and was in perfect ...        4   \n",
              "4       awesome! stays on, and looks great. can be use...        5   \n",
              "...                                                   ...      ...   \n",
              "194434  Works great just like my original one. I reall...        5   \n",
              "194435  Great product. Great packaging. High quality a...        5   \n",
              "194436  This is a great cable, just as good as the mor...        5   \n",
              "194437  I really like it becasue it works well with my...        5   \n",
              "194438  product as described, I have wasted a lot of m...        5   \n",
              "\n",
              "                                                  summary  unixReviewTime  \\\n",
              "0                                              Looks Good      1400630400   \n",
              "1                                   Really great product.      1389657600   \n",
              "2                                          LOVE LOVE LOVE      1403740800   \n",
              "3                                                   Cute!      1382313600   \n",
              "4               leopard home button sticker for iphone 4s      1359849600   \n",
              "...                                                   ...             ...   \n",
              "194434                           This works just perfect!      1405900800   \n",
              "194435           Great replacement cable. Apple certified      1405900800   \n",
              "194436                                       Real quality      1405900800   \n",
              "194437  I really like it becasue it works well with my...      1405814400   \n",
              "194438              I have wasted a lot of money on cords      1405900800   \n",
              "\n",
              "         reviewTime  \n",
              "0       05 21, 2014  \n",
              "1       01 14, 2014  \n",
              "2       06 26, 2014  \n",
              "3       10 21, 2013  \n",
              "4        02 3, 2013  \n",
              "...             ...  \n",
              "194434  07 21, 2014  \n",
              "194435  07 21, 2014  \n",
              "194436  07 21, 2014  \n",
              "194437  07 20, 2014  \n",
              "194438  07 21, 2014  \n",
              "\n",
              "[194439 rows x 9 columns]"
            ],
            "text/html": [
              "\n",
              "  <div id=\"df-5ded5e4f-5e29-4890-8de8-9e5fd1033285\" class=\"colab-df-container\">\n",
              "    <div>\n",
              "<style scoped>\n",
              "    .dataframe tbody tr th:only-of-type {\n",
              "        vertical-align: middle;\n",
              "    }\n",
              "\n",
              "    .dataframe tbody tr th {\n",
              "        vertical-align: top;\n",
              "    }\n",
              "\n",
              "    .dataframe thead th {\n",
              "        text-align: right;\n",
              "    }\n",
              "</style>\n",
              "<table border=\"1\" class=\"dataframe\">\n",
              "  <thead>\n",
              "    <tr style=\"text-align: right;\">\n",
              "      <th></th>\n",
              "      <th>reviewerID</th>\n",
              "      <th>asin</th>\n",
              "      <th>reviewerName</th>\n",
              "      <th>helpful</th>\n",
              "      <th>reviewText</th>\n",
              "      <th>overall</th>\n",
              "      <th>summary</th>\n",
              "      <th>unixReviewTime</th>\n",
              "      <th>reviewTime</th>\n",
              "    </tr>\n",
              "  </thead>\n",
              "  <tbody>\n",
              "    <tr>\n",
              "      <th>0</th>\n",
              "      <td>A30TL5EWN6DFXT</td>\n",
              "      <td>120401325X</td>\n",
              "      <td>christina</td>\n",
              "      <td>[0, 0]</td>\n",
              "      <td>They look good and stick good! I just don't li...</td>\n",
              "      <td>4</td>\n",
              "      <td>Looks Good</td>\n",
              "      <td>1400630400</td>\n",
              "      <td>05 21, 2014</td>\n",
              "    </tr>\n",
              "    <tr>\n",
              "      <th>1</th>\n",
              "      <td>ASY55RVNIL0UD</td>\n",
              "      <td>120401325X</td>\n",
              "      <td>emily l.</td>\n",
              "      <td>[0, 0]</td>\n",
              "      <td>These stickers work like the review says they ...</td>\n",
              "      <td>5</td>\n",
              "      <td>Really great product.</td>\n",
              "      <td>1389657600</td>\n",
              "      <td>01 14, 2014</td>\n",
              "    </tr>\n",
              "    <tr>\n",
              "      <th>2</th>\n",
              "      <td>A2TMXE2AFO7ONB</td>\n",
              "      <td>120401325X</td>\n",
              "      <td>Erica</td>\n",
              "      <td>[0, 0]</td>\n",
              "      <td>These are awesome and make my phone look so st...</td>\n",
              "      <td>5</td>\n",
              "      <td>LOVE LOVE LOVE</td>\n",
              "      <td>1403740800</td>\n",
              "      <td>06 26, 2014</td>\n",
              "    </tr>\n",
              "    <tr>\n",
              "      <th>3</th>\n",
              "      <td>AWJ0WZQYMYFQ4</td>\n",
              "      <td>120401325X</td>\n",
              "      <td>JM</td>\n",
              "      <td>[4, 4]</td>\n",
              "      <td>Item arrived in great time and was in perfect ...</td>\n",
              "      <td>4</td>\n",
              "      <td>Cute!</td>\n",
              "      <td>1382313600</td>\n",
              "      <td>10 21, 2013</td>\n",
              "    </tr>\n",
              "    <tr>\n",
              "      <th>4</th>\n",
              "      <td>ATX7CZYFXI1KW</td>\n",
              "      <td>120401325X</td>\n",
              "      <td>patrice m rogoza</td>\n",
              "      <td>[2, 3]</td>\n",
              "      <td>awesome! stays on, and looks great. can be use...</td>\n",
              "      <td>5</td>\n",
              "      <td>leopard home button sticker for iphone 4s</td>\n",
              "      <td>1359849600</td>\n",
              "      <td>02 3, 2013</td>\n",
              "    </tr>\n",
              "    <tr>\n",
              "      <th>...</th>\n",
              "      <td>...</td>\n",
              "      <td>...</td>\n",
              "      <td>...</td>\n",
              "      <td>...</td>\n",
              "      <td>...</td>\n",
              "      <td>...</td>\n",
              "      <td>...</td>\n",
              "      <td>...</td>\n",
              "      <td>...</td>\n",
              "    </tr>\n",
              "    <tr>\n",
              "      <th>194434</th>\n",
              "      <td>A1YMNTFLNDYQ1F</td>\n",
              "      <td>B00LORXVUE</td>\n",
              "      <td>eyeused2loveher</td>\n",
              "      <td>[0, 0]</td>\n",
              "      <td>Works great just like my original one. I reall...</td>\n",
              "      <td>5</td>\n",
              "      <td>This works just perfect!</td>\n",
              "      <td>1405900800</td>\n",
              "      <td>07 21, 2014</td>\n",
              "    </tr>\n",
              "    <tr>\n",
              "      <th>194435</th>\n",
              "      <td>A15TX8B2L8B20S</td>\n",
              "      <td>B00LORXVUE</td>\n",
              "      <td>Jon Davidson</td>\n",
              "      <td>[0, 0]</td>\n",
              "      <td>Great product. Great packaging. High quality a...</td>\n",
              "      <td>5</td>\n",
              "      <td>Great replacement cable. Apple certified</td>\n",
              "      <td>1405900800</td>\n",
              "      <td>07 21, 2014</td>\n",
              "    </tr>\n",
              "    <tr>\n",
              "      <th>194436</th>\n",
              "      <td>A3JI7QRZO1QG8X</td>\n",
              "      <td>B00LORXVUE</td>\n",
              "      <td>Joyce M. Davidson</td>\n",
              "      <td>[0, 0]</td>\n",
              "      <td>This is a great cable, just as good as the mor...</td>\n",
              "      <td>5</td>\n",
              "      <td>Real quality</td>\n",
              "      <td>1405900800</td>\n",
              "      <td>07 21, 2014</td>\n",
              "    </tr>\n",
              "    <tr>\n",
              "      <th>194437</th>\n",
              "      <td>A1NHB2VC68YQNM</td>\n",
              "      <td>B00LORXVUE</td>\n",
              "      <td>Nurse Farrugia</td>\n",
              "      <td>[0, 0]</td>\n",
              "      <td>I really like it becasue it works well with my...</td>\n",
              "      <td>5</td>\n",
              "      <td>I really like it becasue it works well with my...</td>\n",
              "      <td>1405814400</td>\n",
              "      <td>07 20, 2014</td>\n",
              "    </tr>\n",
              "    <tr>\n",
              "      <th>194438</th>\n",
              "      <td>A1AG6U022WHXBF</td>\n",
              "      <td>B00LORXVUE</td>\n",
              "      <td>Trisha Crocker</td>\n",
              "      <td>[0, 0]</td>\n",
              "      <td>product as described, I have wasted a lot of m...</td>\n",
              "      <td>5</td>\n",
              "      <td>I have wasted a lot of money on cords</td>\n",
              "      <td>1405900800</td>\n",
              "      <td>07 21, 2014</td>\n",
              "    </tr>\n",
              "  </tbody>\n",
              "</table>\n",
              "<p>194439 rows × 9 columns</p>\n",
              "</div>\n",
              "    <div class=\"colab-df-buttons\">\n",
              "\n",
              "  <div class=\"colab-df-container\">\n",
              "    <button class=\"colab-df-convert\" onclick=\"convertToInteractive('df-5ded5e4f-5e29-4890-8de8-9e5fd1033285')\"\n",
              "            title=\"Convert this dataframe to an interactive table.\"\n",
              "            style=\"display:none;\">\n",
              "\n",
              "  <svg xmlns=\"http://www.w3.org/2000/svg\" height=\"24px\" viewBox=\"0 -960 960 960\">\n",
              "    <path d=\"M120-120v-720h720v720H120Zm60-500h600v-160H180v160Zm220 220h160v-160H400v160Zm0 220h160v-160H400v160ZM180-400h160v-160H180v160Zm440 0h160v-160H620v160ZM180-180h160v-160H180v160Zm440 0h160v-160H620v160Z\"/>\n",
              "  </svg>\n",
              "    </button>\n",
              "\n",
              "  <style>\n",
              "    .colab-df-container {\n",
              "      display:flex;\n",
              "      gap: 12px;\n",
              "    }\n",
              "\n",
              "    .colab-df-convert {\n",
              "      background-color: #E8F0FE;\n",
              "      border: none;\n",
              "      border-radius: 50%;\n",
              "      cursor: pointer;\n",
              "      display: none;\n",
              "      fill: #1967D2;\n",
              "      height: 32px;\n",
              "      padding: 0 0 0 0;\n",
              "      width: 32px;\n",
              "    }\n",
              "\n",
              "    .colab-df-convert:hover {\n",
              "      background-color: #E2EBFA;\n",
              "      box-shadow: 0px 1px 2px rgba(60, 64, 67, 0.3), 0px 1px 3px 1px rgba(60, 64, 67, 0.15);\n",
              "      fill: #174EA6;\n",
              "    }\n",
              "\n",
              "    .colab-df-buttons div {\n",
              "      margin-bottom: 4px;\n",
              "    }\n",
              "\n",
              "    [theme=dark] .colab-df-convert {\n",
              "      background-color: #3B4455;\n",
              "      fill: #D2E3FC;\n",
              "    }\n",
              "\n",
              "    [theme=dark] .colab-df-convert:hover {\n",
              "      background-color: #434B5C;\n",
              "      box-shadow: 0px 1px 3px 1px rgba(0, 0, 0, 0.15);\n",
              "      filter: drop-shadow(0px 1px 2px rgba(0, 0, 0, 0.3));\n",
              "      fill: #FFFFFF;\n",
              "    }\n",
              "  </style>\n",
              "\n",
              "    <script>\n",
              "      const buttonEl =\n",
              "        document.querySelector('#df-5ded5e4f-5e29-4890-8de8-9e5fd1033285 button.colab-df-convert');\n",
              "      buttonEl.style.display =\n",
              "        google.colab.kernel.accessAllowed ? 'block' : 'none';\n",
              "\n",
              "      async function convertToInteractive(key) {\n",
              "        const element = document.querySelector('#df-5ded5e4f-5e29-4890-8de8-9e5fd1033285');\n",
              "        const dataTable =\n",
              "          await google.colab.kernel.invokeFunction('convertToInteractive',\n",
              "                                                    [key], {});\n",
              "        if (!dataTable) return;\n",
              "\n",
              "        const docLinkHtml = 'Like what you see? Visit the ' +\n",
              "          '<a target=\"_blank\" href=https://colab.research.google.com/notebooks/data_table.ipynb>data table notebook</a>'\n",
              "          + ' to learn more about interactive tables.';\n",
              "        element.innerHTML = '';\n",
              "        dataTable['output_type'] = 'display_data';\n",
              "        await google.colab.output.renderOutput(dataTable, element);\n",
              "        const docLink = document.createElement('div');\n",
              "        docLink.innerHTML = docLinkHtml;\n",
              "        element.appendChild(docLink);\n",
              "      }\n",
              "    </script>\n",
              "  </div>\n",
              "\n",
              "\n",
              "<div id=\"df-fe88c57f-44ad-49fb-ab2c-84376a3ef2f5\">\n",
              "  <button class=\"colab-df-quickchart\" onclick=\"quickchart('df-fe88c57f-44ad-49fb-ab2c-84376a3ef2f5')\"\n",
              "            title=\"Suggest charts\"\n",
              "            style=\"display:none;\">\n",
              "\n",
              "<svg xmlns=\"http://www.w3.org/2000/svg\" height=\"24px\"viewBox=\"0 0 24 24\"\n",
              "     width=\"24px\">\n",
              "    <g>\n",
              "        <path d=\"M19 3H5c-1.1 0-2 .9-2 2v14c0 1.1.9 2 2 2h14c1.1 0 2-.9 2-2V5c0-1.1-.9-2-2-2zM9 17H7v-7h2v7zm4 0h-2V7h2v10zm4 0h-2v-4h2v4z\"/>\n",
              "    </g>\n",
              "</svg>\n",
              "  </button>\n",
              "\n",
              "<style>\n",
              "  .colab-df-quickchart {\n",
              "      --bg-color: #E8F0FE;\n",
              "      --fill-color: #1967D2;\n",
              "      --hover-bg-color: #E2EBFA;\n",
              "      --hover-fill-color: #174EA6;\n",
              "      --disabled-fill-color: #AAA;\n",
              "      --disabled-bg-color: #DDD;\n",
              "  }\n",
              "\n",
              "  [theme=dark] .colab-df-quickchart {\n",
              "      --bg-color: #3B4455;\n",
              "      --fill-color: #D2E3FC;\n",
              "      --hover-bg-color: #434B5C;\n",
              "      --hover-fill-color: #FFFFFF;\n",
              "      --disabled-bg-color: #3B4455;\n",
              "      --disabled-fill-color: #666;\n",
              "  }\n",
              "\n",
              "  .colab-df-quickchart {\n",
              "    background-color: var(--bg-color);\n",
              "    border: none;\n",
              "    border-radius: 50%;\n",
              "    cursor: pointer;\n",
              "    display: none;\n",
              "    fill: var(--fill-color);\n",
              "    height: 32px;\n",
              "    padding: 0;\n",
              "    width: 32px;\n",
              "  }\n",
              "\n",
              "  .colab-df-quickchart:hover {\n",
              "    background-color: var(--hover-bg-color);\n",
              "    box-shadow: 0 1px 2px rgba(60, 64, 67, 0.3), 0 1px 3px 1px rgba(60, 64, 67, 0.15);\n",
              "    fill: var(--button-hover-fill-color);\n",
              "  }\n",
              "\n",
              "  .colab-df-quickchart-complete:disabled,\n",
              "  .colab-df-quickchart-complete:disabled:hover {\n",
              "    background-color: var(--disabled-bg-color);\n",
              "    fill: var(--disabled-fill-color);\n",
              "    box-shadow: none;\n",
              "  }\n",
              "\n",
              "  .colab-df-spinner {\n",
              "    border: 2px solid var(--fill-color);\n",
              "    border-color: transparent;\n",
              "    border-bottom-color: var(--fill-color);\n",
              "    animation:\n",
              "      spin 1s steps(1) infinite;\n",
              "  }\n",
              "\n",
              "  @keyframes spin {\n",
              "    0% {\n",
              "      border-color: transparent;\n",
              "      border-bottom-color: var(--fill-color);\n",
              "      border-left-color: var(--fill-color);\n",
              "    }\n",
              "    20% {\n",
              "      border-color: transparent;\n",
              "      border-left-color: var(--fill-color);\n",
              "      border-top-color: var(--fill-color);\n",
              "    }\n",
              "    30% {\n",
              "      border-color: transparent;\n",
              "      border-left-color: var(--fill-color);\n",
              "      border-top-color: var(--fill-color);\n",
              "      border-right-color: var(--fill-color);\n",
              "    }\n",
              "    40% {\n",
              "      border-color: transparent;\n",
              "      border-right-color: var(--fill-color);\n",
              "      border-top-color: var(--fill-color);\n",
              "    }\n",
              "    60% {\n",
              "      border-color: transparent;\n",
              "      border-right-color: var(--fill-color);\n",
              "    }\n",
              "    80% {\n",
              "      border-color: transparent;\n",
              "      border-right-color: var(--fill-color);\n",
              "      border-bottom-color: var(--fill-color);\n",
              "    }\n",
              "    90% {\n",
              "      border-color: transparent;\n",
              "      border-bottom-color: var(--fill-color);\n",
              "    }\n",
              "  }\n",
              "</style>\n",
              "\n",
              "  <script>\n",
              "    async function quickchart(key) {\n",
              "      const quickchartButtonEl =\n",
              "        document.querySelector('#' + key + ' button');\n",
              "      quickchartButtonEl.disabled = true;  // To prevent multiple clicks.\n",
              "      quickchartButtonEl.classList.add('colab-df-spinner');\n",
              "      try {\n",
              "        const charts = await google.colab.kernel.invokeFunction(\n",
              "            'suggestCharts', [key], {});\n",
              "      } catch (error) {\n",
              "        console.error('Error during call to suggestCharts:', error);\n",
              "      }\n",
              "      quickchartButtonEl.classList.remove('colab-df-spinner');\n",
              "      quickchartButtonEl.classList.add('colab-df-quickchart-complete');\n",
              "    }\n",
              "    (() => {\n",
              "      let quickchartButtonEl =\n",
              "        document.querySelector('#df-fe88c57f-44ad-49fb-ab2c-84376a3ef2f5 button');\n",
              "      quickchartButtonEl.style.display =\n",
              "        google.colab.kernel.accessAllowed ? 'block' : 'none';\n",
              "    })();\n",
              "  </script>\n",
              "</div>\n",
              "\n",
              "  <div id=\"id_b7a1b209-41c2-40b1-b029-d351a5765427\">\n",
              "    <style>\n",
              "      .colab-df-generate {\n",
              "        background-color: #E8F0FE;\n",
              "        border: none;\n",
              "        border-radius: 50%;\n",
              "        cursor: pointer;\n",
              "        display: none;\n",
              "        fill: #1967D2;\n",
              "        height: 32px;\n",
              "        padding: 0 0 0 0;\n",
              "        width: 32px;\n",
              "      }\n",
              "\n",
              "      .colab-df-generate:hover {\n",
              "        background-color: #E2EBFA;\n",
              "        box-shadow: 0px 1px 2px rgba(60, 64, 67, 0.3), 0px 1px 3px 1px rgba(60, 64, 67, 0.15);\n",
              "        fill: #174EA6;\n",
              "      }\n",
              "\n",
              "      [theme=dark] .colab-df-generate {\n",
              "        background-color: #3B4455;\n",
              "        fill: #D2E3FC;\n",
              "      }\n",
              "\n",
              "      [theme=dark] .colab-df-generate:hover {\n",
              "        background-color: #434B5C;\n",
              "        box-shadow: 0px 1px 3px 1px rgba(0, 0, 0, 0.15);\n",
              "        filter: drop-shadow(0px 1px 2px rgba(0, 0, 0, 0.3));\n",
              "        fill: #FFFFFF;\n",
              "      }\n",
              "    </style>\n",
              "    <button class=\"colab-df-generate\" onclick=\"generateWithVariable('df')\"\n",
              "            title=\"Generate code using this dataframe.\"\n",
              "            style=\"display:none;\">\n",
              "\n",
              "  <svg xmlns=\"http://www.w3.org/2000/svg\" height=\"24px\"viewBox=\"0 0 24 24\"\n",
              "       width=\"24px\">\n",
              "    <path d=\"M7,19H8.4L18.45,9,17,7.55,7,17.6ZM5,21V16.75L18.45,3.32a2,2,0,0,1,2.83,0l1.4,1.43a1.91,1.91,0,0,1,.58,1.4,1.91,1.91,0,0,1-.58,1.4L9.25,21ZM18.45,9,17,7.55Zm-12,3A5.31,5.31,0,0,0,4.9,8.1,5.31,5.31,0,0,0,1,6.5,5.31,5.31,0,0,0,4.9,4.9,5.31,5.31,0,0,0,6.5,1,5.31,5.31,0,0,0,8.1,4.9,5.31,5.31,0,0,0,12,6.5,5.46,5.46,0,0,0,6.5,12Z\"/>\n",
              "  </svg>\n",
              "    </button>\n",
              "    <script>\n",
              "      (() => {\n",
              "      const buttonEl =\n",
              "        document.querySelector('#id_b7a1b209-41c2-40b1-b029-d351a5765427 button.colab-df-generate');\n",
              "      buttonEl.style.display =\n",
              "        google.colab.kernel.accessAllowed ? 'block' : 'none';\n",
              "\n",
              "      buttonEl.onclick = () => {\n",
              "        google.colab.notebook.generateWithVariable('df');\n",
              "      }\n",
              "      })();\n",
              "    </script>\n",
              "  </div>\n",
              "\n",
              "    </div>\n",
              "  </div>\n"
            ]
          },
          "metadata": {},
          "execution_count": 2
        }
      ]
    },
    {
      "cell_type": "code",
      "source": [
        "df.shape"
      ],
      "metadata": {
        "colab": {
          "base_uri": "https://localhost:8080/"
        },
        "id": "yAO-8Q5YhNrl",
        "outputId": "f9801b13-f10e-435d-b704-a64d677e3010"
      },
      "execution_count": 3,
      "outputs": [
        {
          "output_type": "execute_result",
          "data": {
            "text/plain": [
              "(194439, 9)"
            ]
          },
          "metadata": {},
          "execution_count": 3
        }
      ]
    },
    {
      "cell_type": "code",
      "source": [
        "review_text = df.reviewText.apply(gensim.utils.simple_preprocess)"
      ],
      "metadata": {
        "id": "6__mBpdehSe7"
      },
      "execution_count": 4,
      "outputs": []
    },
    {
      "cell_type": "code",
      "source": [
        "review_text\n"
      ],
      "metadata": {
        "colab": {
          "base_uri": "https://localhost:8080/"
        },
        "id": "35sNDjkAhXLW",
        "outputId": "a50fa332-9055-4749-c69c-42a02a3f291a"
      },
      "execution_count": 5,
      "outputs": [
        {
          "output_type": "execute_result",
          "data": {
            "text/plain": [
              "0         [they, look, good, and, stick, good, just, don...\n",
              "1         [these, stickers, work, like, the, review, say...\n",
              "2         [these, are, awesome, and, make, my, phone, lo...\n",
              "3         [item, arrived, in, great, time, and, was, in,...\n",
              "4         [awesome, stays, on, and, looks, great, can, b...\n",
              "                                ...                        \n",
              "194434    [works, great, just, like, my, original, one, ...\n",
              "194435    [great, product, great, packaging, high, quali...\n",
              "194436    [this, is, great, cable, just, as, good, as, t...\n",
              "194437    [really, like, it, becasue, it, works, well, w...\n",
              "194438    [product, as, described, have, wasted, lot, of...\n",
              "Name: reviewText, Length: 194439, dtype: object"
            ]
          },
          "metadata": {},
          "execution_count": 5
        }
      ]
    },
    {
      "cell_type": "code",
      "source": [
        "review_text.loc[0]"
      ],
      "metadata": {
        "colab": {
          "base_uri": "https://localhost:8080/"
        },
        "id": "608PdJwkh0K4",
        "outputId": "070785c5-70f3-47d2-dd8d-0bdf55f9e32b"
      },
      "execution_count": 6,
      "outputs": [
        {
          "output_type": "execute_result",
          "data": {
            "text/plain": [
              "['they',\n",
              " 'look',\n",
              " 'good',\n",
              " 'and',\n",
              " 'stick',\n",
              " 'good',\n",
              " 'just',\n",
              " 'don',\n",
              " 'like',\n",
              " 'the',\n",
              " 'rounded',\n",
              " 'shape',\n",
              " 'because',\n",
              " 'was',\n",
              " 'always',\n",
              " 'bumping',\n",
              " 'it',\n",
              " 'and',\n",
              " 'siri',\n",
              " 'kept',\n",
              " 'popping',\n",
              " 'up',\n",
              " 'and',\n",
              " 'it',\n",
              " 'was',\n",
              " 'irritating',\n",
              " 'just',\n",
              " 'won',\n",
              " 'buy',\n",
              " 'product',\n",
              " 'like',\n",
              " 'this',\n",
              " 'again']"
            ]
          },
          "metadata": {},
          "execution_count": 6
        }
      ]
    },
    {
      "cell_type": "code",
      "source": [
        "df.reviewText.loc[0]"
      ],
      "metadata": {
        "colab": {
          "base_uri": "https://localhost:8080/",
          "height": 53
        },
        "id": "mvusE1c4iGXu",
        "outputId": "c1af1238-b800-4851-95e1-b946bea45137"
      },
      "execution_count": 7,
      "outputs": [
        {
          "output_type": "execute_result",
          "data": {
            "text/plain": [
              "\"They look good and stick good! I just don't like the rounded shape because I was always bumping it and Siri kept popping up and it was irritating. I just won't buy a product like this again\""
            ],
            "application/vnd.google.colaboratory.intrinsic+json": {
              "type": "string"
            }
          },
          "metadata": {},
          "execution_count": 7
        }
      ]
    },
    {
      "cell_type": "code",
      "source": [
        "model = gensim.models.Word2Vec(\n",
        "    window=10,\n",
        "    min_count=2,\n",
        "    workers=4,\n",
        ")"
      ],
      "metadata": {
        "id": "GuTsrkckiSr1"
      },
      "execution_count": 8,
      "outputs": []
    },
    {
      "cell_type": "code",
      "source": [
        "model.build_vocab(review_text, progress_per=1000)"
      ],
      "metadata": {
        "id": "AXPUNVmRi21B"
      },
      "execution_count": 9,
      "outputs": []
    },
    {
      "cell_type": "code",
      "source": [
        "model.train(review_text, total_examples=model.corpus_count, epochs=model.epochs)"
      ],
      "metadata": {
        "colab": {
          "base_uri": "https://localhost:8080/"
        },
        "id": "LXfTwayni7av",
        "outputId": "f92725b9-7bdb-4a59-88b3-acf36ce0b19d"
      },
      "execution_count": 10,
      "outputs": [
        {
          "output_type": "execute_result",
          "data": {
            "text/plain": [
              "(61503194, 83868975)"
            ]
          },
          "metadata": {},
          "execution_count": 10
        }
      ]
    },
    {
      "cell_type": "code",
      "source": [
        "model.save(\"./word2vec-amazon-cell-accessories-reviews-short.model\")"
      ],
      "metadata": {
        "id": "XEnhmr9NmhG6"
      },
      "execution_count": 11,
      "outputs": []
    },
    {
      "cell_type": "code",
      "source": [
        "model.wv.most_similarbad(\"\")"
      ],
      "metadata": {
        "colab": {
          "base_uri": "https://localhost:8080/"
        },
        "id": "7V_6O8yhnexC",
        "outputId": "296f9126-e464-469c-dfb7-ecd8f4bcc3d1"
      },
      "execution_count": 12,
      "outputs": [
        {
          "output_type": "execute_result",
          "data": {
            "text/plain": [
              "[('terrible', 0.6810846924781799),\n",
              " ('shabby', 0.6597596406936646),\n",
              " ('horrible', 0.6133003234863281),\n",
              " ('good', 0.5821609497070312),\n",
              " ('awful', 0.5593515038490295),\n",
              " ('okay', 0.5554044246673584),\n",
              " ('disappointing', 0.5249195694923401),\n",
              " ('sad', 0.5216744542121887),\n",
              " ('ok', 0.5183419585227966),\n",
              " ('poor', 0.5083321332931519)]"
            ]
          },
          "metadata": {},
          "execution_count": 12
        }
      ]
    },
    {
      "cell_type": "code",
      "source": [
        "model.wv.similarity(w1=\"cheap\", w2=\"inexpensive\")"
      ],
      "metadata": {
        "colab": {
          "base_uri": "https://localhost:8080/"
        },
        "id": "K1FF1AI-nzAm",
        "outputId": "62097d13-5302-46cb-a359-2ac0b3b2ac49"
      },
      "execution_count": 13,
      "outputs": [
        {
          "output_type": "execute_result",
          "data": {
            "text/plain": [
              "0.5352634"
            ]
          },
          "metadata": {},
          "execution_count": 13
        }
      ]
    },
    {
      "cell_type": "code",
      "source": [
        "model.wv.similarity(w1=\"great\", w2=\"good\")"
      ],
      "metadata": {
        "colab": {
          "base_uri": "https://localhost:8080/"
        },
        "id": "O9gDkDLBn1Ts",
        "outputId": "a75bdbb5-0c5d-47dc-9429-1808ee0ab58a"
      },
      "execution_count": 14,
      "outputs": [
        {
          "output_type": "execute_result",
          "data": {
            "text/plain": [
              "0.780927"
            ]
          },
          "metadata": {},
          "execution_count": 14
        }
      ]
    }
  ]
}